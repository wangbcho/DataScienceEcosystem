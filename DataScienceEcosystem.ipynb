{
 "cells": [
  {
   "cell_type": "markdown",
   "id": "d4c5b765",
   "metadata": {},
   "source": [
    "# Data Science Tools and Ecosystem"
   ]
  },
  {
   "cell_type": "markdown",
   "id": "81bbe130",
   "metadata": {},
   "source": [
    "## Author\n",
    "Wang Cho"
   ]
  },
  {
   "cell_type": "markdown",
   "id": "ba52c0d6",
   "metadata": {},
   "source": [
    "## In this notebook, Data Science Tools and Ecosystems are summarized."
   ]
  },
  {
   "cell_type": "markdown",
   "id": "e827a45f",
   "metadata": {},
   "source": [
    "### __Objectives__\n",
    "\n",
    "- List popular languages for Data Science\n",
    "- List common libaries used for Data Science\n",
    "- List Data Science Tools"
   ]
  },
  {
   "cell_type": "markdown",
   "id": "4ab49aba",
   "metadata": {},
   "source": [
    "### Some of the popular languages that Data Scientists use are:\n",
    "1. Python\n",
    "2. R\n",
    "3. Java\n",
    "4. C/C++\n",
    "4. SQL"
   ]
  },
  {
   "cell_type": "markdown",
   "id": "504f854e",
   "metadata": {},
   "source": [
    "### Some of the commonly used libaries used by Data Scientists include:\n",
    "1. tensorflow\n",
    "2. NumPy\n",
    "3. matplotlib\n",
    "4. pytorch"
   ]
  },
  {
   "cell_type": "markdown",
   "id": "80e2d792",
   "metadata": {},
   "source": [
    "### Data Science Tools\n",
    "\n",
    "|Data Science Tools|\n",
    "|------------------|\n",
    "|JupyterLab|\n",
    "|Visual Studio|\n",
    "|Rstudio|"
   ]
  },
  {
   "cell_type": "markdown",
   "id": "c7b1088a",
   "metadata": {},
   "source": [
    "### Below are a few examples of evaluating arithmetic expressions in Python.\n",
    "\n",
    "- 1+1\n",
    "- 2-1\n",
    "- 1*5\n",
    "- 4/2"
   ]
  },
  {
   "cell_type": "code",
   "execution_count": 5,
   "id": "b59ed589",
   "metadata": {},
   "outputs": [
    {
     "data": {
      "text/plain": [
       "17"
      ]
     },
     "execution_count": 5,
     "metadata": {},
     "output_type": "execute_result"
    }
   ],
   "source": [
    "# This is a simple arithmetic expression to multiply then add integers.\n",
    "\n",
    "(3*4)+5"
   ]
  },
  {
   "cell_type": "code",
   "execution_count": 6,
   "id": "a60828b9",
   "metadata": {},
   "outputs": [
    {
     "data": {
      "text/plain": [
       "3.3333333333333335"
      ]
     },
     "execution_count": 6,
     "metadata": {},
     "output_type": "execute_result"
    }
   ],
   "source": [
    "# This will convert 200 minutes to hours by diving by 60\n",
    "\n",
    "200/60"
   ]
  },
  {
   "cell_type": "code",
   "execution_count": null,
   "id": "36f78ee2",
   "metadata": {},
   "outputs": [],
   "source": []
  }
 ],
 "metadata": {
  "kernelspec": {
   "display_name": "Python 3 (ipykernel)",
   "language": "python",
   "name": "python3"
  },
  "language_info": {
   "codemirror_mode": {
    "name": "ipython",
    "version": 3
   },
   "file_extension": ".py",
   "mimetype": "text/x-python",
   "name": "python",
   "nbconvert_exporter": "python",
   "pygments_lexer": "ipython3",
   "version": "3.11.5"
  }
 },
 "nbformat": 4,
 "nbformat_minor": 5
}
